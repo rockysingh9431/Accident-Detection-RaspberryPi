{
 "cells": [
  {
   "cell_type": "code",
   "execution_count": 1,
   "id": "c22e4849",
   "metadata": {
    "_cell_guid": "b1076dfc-b9ad-4769-8c92-a6c4dae69d19",
    "_uuid": "8f2839f25d086af736a60e9eeb907d3b93b6e0e5",
    "execution": {
     "iopub.execute_input": "2022-06-06T11:22:04.284474Z",
     "iopub.status.busy": "2022-06-06T11:22:04.283842Z",
     "iopub.status.idle": "2022-06-06T11:22:10.971949Z",
     "shell.execute_reply": "2022-06-06T11:22:10.971144Z",
     "shell.execute_reply.started": "2022-06-06T10:46:28.537996Z"
    },
    "papermill": {
     "duration": 6.715324,
     "end_time": "2022-06-06T11:22:10.972115",
     "exception": false,
     "start_time": "2022-06-06T11:22:04.256791",
     "status": "completed"
    },
    "tags": []
   },
   "outputs": [],
   "source": [
    "import numpy as np\n",
    "import pandas as pd\n",
    "import matplotlib.pyplot as plt\n",
    "import tensorflow as tf\n",
    "from keras import layers\n",
    "#from tensorflow.keras import layers\n",
    "from time import perf_counter \n",
    "import os\n",
    "from keras.callbacks import ModelCheckpoint\n",
    "from keras.models import load_model\n",
    "from keras.utils import plot_model"
   ]
  },
  {
   "cell_type": "code",
   "execution_count": 2,
   "id": "75070279",
   "metadata": {
    "execution": {
     "iopub.execute_input": "2022-06-06T11:22:11.006494Z",
     "iopub.status.busy": "2022-06-06T11:22:11.005804Z",
     "iopub.status.idle": "2022-06-06T11:22:11.008733Z",
     "shell.execute_reply": "2022-06-06T11:22:11.008225Z",
     "shell.execute_reply.started": "2022-06-06T10:46:31.286079Z"
    },
    "papermill": {
     "duration": 0.021664,
     "end_time": "2022-06-06T11:22:11.008874",
     "exception": false,
     "start_time": "2022-06-06T11:22:10.987210",
     "status": "completed"
    },
    "tags": []
   },
   "outputs": [],
   "source": [
    "## Defining batch specfications\n",
    "batch_size = 100\n",
    "img_height = 250\n",
    "img_width = 250"
   ]
  },
  {
   "cell_type": "code",
   "execution_count": 3,
   "id": "eed3d696",
   "metadata": {
    "execution": {
     "iopub.execute_input": "2022-06-06T11:22:11.043329Z",
     "iopub.status.busy": "2022-06-06T11:22:11.042666Z",
     "iopub.status.idle": "2022-06-06T11:22:11.281141Z",
     "shell.execute_reply": "2022-06-06T11:22:11.281663Z",
     "shell.execute_reply.started": "2022-06-06T10:46:31.292379Z"
    },
    "papermill": {
     "duration": 0.258275,
     "end_time": "2022-06-06T11:22:11.281841",
     "exception": false,
     "start_time": "2022-06-06T11:22:11.023566",
     "status": "completed"
    },
    "tags": []
   },
   "outputs": [
    {
     "name": "stdout",
     "output_type": "stream",
     "text": [
      "Found 791 files belonging to 2 classes.\n"
     ]
    }
   ],
   "source": [
    "## loading training set\n",
    "training_data = tf.keras.preprocessing.image_dataset_from_directory(\n",
    "    'data/train',\n",
    "    seed=42,\n",
    "    image_size= (img_height, img_width),\n",
    "    batch_size=batch_size,\n",
    "    color_mode='rgb'\n",
    ")"
   ]
  },
  {
   "cell_type": "code",
   "execution_count": 4,
   "id": "d52bb780",
   "metadata": {
    "execution": {
     "iopub.execute_input": "2022-06-06T11:22:11.318440Z",
     "iopub.status.busy": "2022-06-06T11:22:11.317741Z",
     "iopub.status.idle": "2022-06-06T11:22:11.437737Z",
     "shell.execute_reply": "2022-06-06T11:22:11.438464Z",
     "shell.execute_reply.started": "2022-06-06T10:46:31.868234Z"
    },
    "papermill": {
     "duration": 0.141084,
     "end_time": "2022-06-06T11:22:11.438707",
     "exception": false,
     "start_time": "2022-06-06T11:22:11.297623",
     "status": "completed"
    },
    "tags": []
   },
   "outputs": [
    {
     "name": "stdout",
     "output_type": "stream",
     "text": [
      "Found 98 files belonging to 2 classes.\n"
     ]
    }
   ],
   "source": [
    "## loading validation dataset\n",
    "validation_data =  tf.keras.preprocessing.image_dataset_from_directory(\n",
    "    'data/val',\n",
    "    seed=42,\n",
    "    image_size= (img_height, img_width),\n",
    "    batch_size=batch_size,\n",
    "    color_mode='rgb'\n",
    ")"
   ]
  },
  {
   "cell_type": "code",
   "execution_count": 5,
   "id": "a5216ed0",
   "metadata": {
    "execution": {
     "iopub.execute_input": "2022-06-06T11:22:11.474428Z",
     "iopub.status.busy": "2022-06-06T11:22:11.473769Z",
     "iopub.status.idle": "2022-06-06T11:22:11.597522Z",
     "shell.execute_reply": "2022-06-06T11:22:11.596930Z",
     "shell.execute_reply.started": "2022-06-06T10:46:31.998384Z"
    },
    "papermill": {
     "duration": 0.142358,
     "end_time": "2022-06-06T11:22:11.597671",
     "exception": false,
     "start_time": "2022-06-06T11:22:11.455313",
     "status": "completed"
    },
    "tags": []
   },
   "outputs": [
    {
     "name": "stdout",
     "output_type": "stream",
     "text": [
      "Found 100 files belonging to 2 classes.\n"
     ]
    }
   ],
   "source": [
    "## loading testing dataset\n",
    "testing_data = tf.keras.preprocessing.image_dataset_from_directory(\n",
    "    'data/test',\n",
    "    seed=42,\n",
    "    image_size= (img_height, img_width),\n",
    "    batch_size=batch_size,\n",
    "    color_mode='rgb'\n",
    ")"
   ]
  },
  {
   "cell_type": "code",
   "execution_count": 6,
   "id": "0f6cb045",
   "metadata": {
    "execution": {
     "iopub.execute_input": "2022-06-06T11:22:11.639051Z",
     "iopub.status.busy": "2022-06-06T11:22:11.638119Z",
     "iopub.status.idle": "2022-06-06T11:22:11.642875Z",
     "shell.execute_reply": "2022-06-06T11:22:11.642232Z",
     "shell.execute_reply.started": "2022-06-06T10:46:32.123352Z"
    },
    "papermill": {
     "duration": 0.029358,
     "end_time": "2022-06-06T11:22:11.643040",
     "exception": false,
     "start_time": "2022-06-06T11:22:11.613682",
     "status": "completed"
    },
    "tags": []
   },
   "outputs": [
    {
     "data": {
      "text/plain": "<_BatchDataset element_spec=(TensorSpec(shape=(None, 250, 250, 3), dtype=tf.float32, name=None), TensorSpec(shape=(None,), dtype=tf.int32, name=None))>"
     },
     "execution_count": 6,
     "metadata": {},
     "output_type": "execute_result"
    }
   ],
   "source": [
    "testing_data"
   ]
  },
  {
   "cell_type": "code",
   "execution_count": 7,
   "id": "cca4892e",
   "metadata": {
    "execution": {
     "iopub.execute_input": "2022-06-06T11:22:11.682246Z",
     "iopub.status.busy": "2022-06-06T11:22:11.681351Z",
     "iopub.status.idle": "2022-06-06T11:22:11.685497Z",
     "shell.execute_reply": "2022-06-06T11:22:11.684898Z",
     "shell.execute_reply.started": "2022-06-06T10:46:32.135442Z"
    },
    "papermill": {
     "duration": 0.025718,
     "end_time": "2022-06-06T11:22:11.685637",
     "exception": false,
     "start_time": "2022-06-06T11:22:11.659919",
     "status": "completed"
    },
    "tags": []
   },
   "outputs": [
    {
     "data": {
      "text/plain": "['Accident', 'Non Accident']"
     },
     "execution_count": 7,
     "metadata": {},
     "output_type": "execute_result"
    }
   ],
   "source": [
    "class_names = training_data.class_names\n",
    "class_names"
   ]
  },
  {
   "cell_type": "code",
   "execution_count": 8,
   "id": "5176cc78",
   "metadata": {
    "execution": {
     "iopub.execute_input": "2022-06-06T11:22:11.724575Z",
     "iopub.status.busy": "2022-06-06T11:22:11.723900Z",
     "iopub.status.idle": "2022-06-06T11:22:11.729144Z",
     "shell.execute_reply": "2022-06-06T11:22:11.729655Z",
     "shell.execute_reply.started": "2022-06-06T10:46:32.148210Z"
    },
    "papermill": {
     "duration": 0.027549,
     "end_time": "2022-06-06T11:22:11.729835",
     "exception": false,
     "start_time": "2022-06-06T11:22:11.702286",
     "status": "completed"
    },
    "tags": []
   },
   "outputs": [],
   "source": [
    "## Configuring dataset for performance\n",
    "AUTOTUNE = tf.data.experimental.AUTOTUNE\n",
    "training_data = training_data.cache().prefetch(buffer_size=AUTOTUNE)\n",
    "testing_data = testing_data.cache().prefetch(buffer_size=AUTOTUNE)"
   ]
  },
  {
   "cell_type": "code",
   "execution_count": 9,
   "id": "82bc89e3",
   "metadata": {
    "execution": {
     "iopub.execute_input": "2022-06-06T11:22:11.768660Z",
     "iopub.status.busy": "2022-06-06T11:22:11.767963Z",
     "iopub.status.idle": "2022-06-06T11:22:11.826933Z",
     "shell.execute_reply": "2022-06-06T11:22:11.826211Z",
     "shell.execute_reply.started": "2022-06-06T10:46:32.163777Z"
    },
    "papermill": {
     "duration": 0.079717,
     "end_time": "2022-06-06T11:22:11.827076",
     "exception": false,
     "start_time": "2022-06-06T11:22:11.747359",
     "status": "completed"
    },
    "tags": []
   },
   "outputs": [],
   "source": [
    "## Defining Cnn\n",
    "model = tf.keras.models.Sequential([\n",
    "  layers.BatchNormalization(),\n",
    "  layers.Conv2D(32, 3, activation='relu'), # Conv2D(f_size, filter_size, activation) # relu, sigmoid, softmax\n",
    "  layers.MaxPooling2D(), # MaxPooling\n",
    "  layers.Conv2D(64, 3, activation='relu'),\n",
    "  layers.MaxPooling2D(),\n",
    "  layers.Conv2D(128, 3, activation='relu'),\n",
    "  layers.MaxPooling2D(),\n",
    "  layers.Conv2D(256, 3, activation='relu'),\n",
    "  layers.MaxPooling2D(),\n",
    "  layers.Flatten(),\n",
    "  layers.Dense(512, activation='relu'),\n",
    "  layers.Dense(len(class_names), activation= 'softmax')\n",
    "])\n",
    "\n",
    "model.compile(optimizer='adam',loss='sparse_categorical_crossentropy', metrics=['accuracy'])"
   ]
  },
  {
   "cell_type": "code",
   "execution_count": 10,
   "id": "3c69caf5",
   "metadata": {
    "execution": {
     "iopub.execute_input": "2022-06-06T11:22:11.866838Z",
     "iopub.status.busy": "2022-06-06T11:22:11.866008Z",
     "iopub.status.idle": "2022-06-06T11:22:12.150115Z",
     "shell.execute_reply": "2022-06-06T11:22:12.149113Z",
     "shell.execute_reply.started": "2022-06-06T10:46:33.004393Z"
    },
    "papermill": {
     "duration": 0.306291,
     "end_time": "2022-06-06T11:22:12.150305",
     "exception": false,
     "start_time": "2022-06-06T11:22:11.844014",
     "status": "completed"
    },
    "tags": []
   },
   "outputs": [
    {
     "name": "stdout",
     "output_type": "stream",
     "text": [
      "Model: \"sequential\"\n",
      "_________________________________________________________________\n",
      " Layer (type)                Output Shape              Param #   \n",
      "=================================================================\n",
      " batch_normalization (BatchN  (None, 250, 250, 3)      12        \n",
      " ormalization)                                                   \n",
      "                                                                 \n",
      " conv2d (Conv2D)             (None, 248, 248, 32)      896       \n",
      "                                                                 \n",
      " max_pooling2d (MaxPooling2D  (None, 124, 124, 32)     0         \n",
      " )                                                               \n",
      "                                                                 \n",
      " conv2d_1 (Conv2D)           (None, 122, 122, 64)      18496     \n",
      "                                                                 \n",
      " max_pooling2d_1 (MaxPooling  (None, 61, 61, 64)       0         \n",
      " 2D)                                                             \n",
      "                                                                 \n",
      " conv2d_2 (Conv2D)           (None, 59, 59, 128)       73856     \n",
      "                                                                 \n",
      " max_pooling2d_2 (MaxPooling  (None, 29, 29, 128)      0         \n",
      " 2D)                                                             \n",
      "                                                                 \n",
      " conv2d_3 (Conv2D)           (None, 27, 27, 256)       295168    \n",
      "                                                                 \n",
      " max_pooling2d_3 (MaxPooling  (None, 13, 13, 256)      0         \n",
      " 2D)                                                             \n",
      "                                                                 \n",
      " flatten (Flatten)           (None, 43264)             0         \n",
      "                                                                 \n",
      " dense (Dense)               (None, 512)               22151680  \n",
      "                                                                 \n",
      " dense_1 (Dense)             (None, 2)                 1026      \n",
      "                                                                 \n",
      "=================================================================\n",
      "Total params: 22,541,134\n",
      "Trainable params: 22,541,128\n",
      "Non-trainable params: 6\n",
      "_________________________________________________________________\n"
     ]
    }
   ],
   "source": [
    "model.build((None, 250, 250, 3))\n",
    "model.summary()"
   ]
  },
  {
   "cell_type": "code",
   "execution_count": 11,
   "outputs": [
    {
     "name": "stdout",
     "output_type": "stream",
     "text": [
      "Requirement already satisfied: pydot in c:\\users\\dell\\desktop\\accident-detection-system-main\\venv\\lib\\site-packages (1.4.2)Note: you may need to restart the kernel to use updated packages.\n"
     ]
    },
    {
     "name": "stderr",
     "output_type": "stream",
     "text": [
      "\n",
      "[notice] A new release of pip available: 22.3.1 -> 23.0.1\n",
      "[notice] To update, run: python.exe -m pip install --upgrade pip\n"
     ]
    },
    {
     "name": "stdout",
     "output_type": "stream",
     "text": [
      "\n",
      "Requirement already satisfied: pyparsing>=2.1.4 in c:\\users\\dell\\desktop\\accident-detection-system-main\\venv\\lib\\site-packages (from pydot) (3.0.9)\n"
     ]
    }
   ],
   "source": [
    "pip install pydot"
   ],
   "metadata": {
    "collapsed": false
   }
  },
  {
   "cell_type": "code",
   "execution_count": 12,
   "outputs": [
    {
     "name": "stdout",
     "output_type": "stream",
     "text": [
      "Requirement already satisfied: graphviz in c:\\users\\dell\\desktop\\accident-detection-system-main\\venv\\lib\\site-packages (0.20.1)\n",
      "Note: you may need to restart the kernel to use updated packages.\n"
     ]
    },
    {
     "name": "stderr",
     "output_type": "stream",
     "text": [
      "\n",
      "[notice] A new release of pip available: 22.3.1 -> 23.0.1\n",
      "[notice] To update, run: python.exe -m pip install --upgrade pip\n"
     ]
    }
   ],
   "source": [
    "pip install graphviz"
   ],
   "metadata": {
    "collapsed": false
   }
  },
  {
   "cell_type": "code",
   "execution_count": 13,
   "id": "c18e9b4f",
   "metadata": {
    "execution": {
     "iopub.execute_input": "2022-06-06T11:22:12.190572Z",
     "iopub.status.busy": "2022-06-06T11:22:12.189914Z",
     "iopub.status.idle": "2022-06-06T11:22:13.448607Z",
     "shell.execute_reply": "2022-06-06T11:22:13.449131Z",
     "shell.execute_reply.started": "2022-06-06T10:46:33.449004Z"
    },
    "papermill": {
     "duration": 1.281486,
     "end_time": "2022-06-06T11:22:13.449301",
     "exception": false,
     "start_time": "2022-06-06T11:22:12.167815",
     "status": "completed"
    },
    "tags": []
   },
   "outputs": [
    {
     "name": "stdout",
     "output_type": "stream",
     "text": [
      "You must install pydot (`pip install pydot`) and install graphviz (see instructions at https://graphviz.gitlab.io/download/) for plot_model to work.\n"
     ]
    }
   ],
   "source": [
    "plot_model(model, show_shapes=True)"
   ]
  },
  {
   "cell_type": "code",
   "execution_count": null,
   "id": "0192e7be",
   "metadata": {
    "execution": {
     "iopub.execute_input": "2022-06-06T11:22:13.493997Z",
     "iopub.status.busy": "2022-06-06T11:22:13.493302Z",
     "iopub.status.idle": "2022-06-06T11:45:04.193237Z",
     "shell.execute_reply": "2022-06-06T11:45:04.194020Z",
     "shell.execute_reply.started": "2022-06-06T10:46:34.771213Z"
    },
    "papermill": {
     "duration": 1370.724139,
     "end_time": "2022-06-06T11:45:04.194454",
     "exception": false,
     "start_time": "2022-06-06T11:22:13.470315",
     "status": "completed"
    },
    "tags": [],
    "pycharm": {
     "is_executing": true
    }
   },
   "outputs": [
    {
     "name": "stdout",
     "output_type": "stream",
     "text": [
      "Epoch 1/20\n",
      "8/8 [==============================] - ETA: 0s - loss: 2.5322 - accuracy: 0.5373 \n",
      "Epoch 1: val_accuracy improved from -inf to 0.46939, saving model to model_weights.h5\n",
      "8/8 [==============================] - 203s 21s/step - loss: 2.5322 - accuracy: 0.5373 - val_loss: 0.9511 - val_accuracy: 0.4694\n",
      "Epoch 2/20\n",
      "8/8 [==============================] - ETA: 0s - loss: 0.6529 - accuracy: 0.6233 \n",
      "Epoch 2: val_accuracy improved from 0.46939 to 0.60204, saving model to model_weights.h5\n",
      "8/8 [==============================] - 164s 20s/step - loss: 0.6529 - accuracy: 0.6233 - val_loss: 0.6194 - val_accuracy: 0.6020\n",
      "Epoch 3/20\n",
      "8/8 [==============================] - ETA: 0s - loss: 0.5853 - accuracy: 0.6991 \n",
      "Epoch 3: val_accuracy improved from 0.60204 to 0.71429, saving model to model_weights.h5\n",
      "8/8 [==============================] - 165s 21s/step - loss: 0.5853 - accuracy: 0.6991 - val_loss: 0.5305 - val_accuracy: 0.7143\n",
      "Epoch 4/20\n",
      "8/8 [==============================] - ETA: 0s - loss: 0.5318 - accuracy: 0.7446 \n",
      "Epoch 4: val_accuracy improved from 0.71429 to 0.75510, saving model to model_weights.h5\n",
      "8/8 [==============================] - 134s 17s/step - loss: 0.5318 - accuracy: 0.7446 - val_loss: 0.4809 - val_accuracy: 0.7551\n",
      "Epoch 5/20\n",
      "8/8 [==============================] - ETA: 0s - loss: 0.4821 - accuracy: 0.7699 \n",
      "Epoch 5: val_accuracy did not improve from 0.75510\n",
      "8/8 [==============================] - 121s 15s/step - loss: 0.4821 - accuracy: 0.7699 - val_loss: 0.5753 - val_accuracy: 0.7245\n",
      "Epoch 6/20\n",
      "8/8 [==============================] - ETA: 0s - loss: 0.4094 - accuracy: 0.8167 \n",
      "Epoch 6: val_accuracy improved from 0.75510 to 0.82653, saving model to model_weights.h5\n",
      "8/8 [==============================] - 167s 22s/step - loss: 0.4094 - accuracy: 0.8167 - val_loss: 0.4011 - val_accuracy: 0.8265\n",
      "Epoch 7/20\n",
      "8/8 [==============================] - ETA: 0s - loss: 0.3318 - accuracy: 0.8546 \n",
      "Epoch 7: val_accuracy improved from 0.82653 to 0.87755, saving model to model_weights.h5\n",
      "8/8 [==============================] - 135s 16s/step - loss: 0.3318 - accuracy: 0.8546 - val_loss: 0.3742 - val_accuracy: 0.8776\n",
      "Epoch 8/20\n",
      "8/8 [==============================] - ETA: 0s - loss: 0.2583 - accuracy: 0.8850 \n",
      "Epoch 8: val_accuracy did not improve from 0.87755\n",
      "8/8 [==============================] - 114s 14s/step - loss: 0.2583 - accuracy: 0.8850 - val_loss: 0.4360 - val_accuracy: 0.7959\n",
      "Epoch 9/20\n",
      "8/8 [==============================] - ETA: 0s - loss: 0.1753 - accuracy: 0.9279 \n",
      "Epoch 9: val_accuracy did not improve from 0.87755\n",
      "8/8 [==============================] - 115s 15s/step - loss: 0.1753 - accuracy: 0.9279 - val_loss: 0.4372 - val_accuracy: 0.7959\n",
      "Epoch 10/20\n",
      "8/8 [==============================] - ETA: 0s - loss: 0.1405 - accuracy: 0.9406 \n",
      "Epoch 10: val_accuracy did not improve from 0.87755\n",
      "8/8 [==============================] - 114s 14s/step - loss: 0.1405 - accuracy: 0.9406 - val_loss: 0.7013 - val_accuracy: 0.8265\n",
      "Epoch 11/20\n",
      "8/8 [==============================] - ETA: 0s - loss: 0.1270 - accuracy: 0.9418 \n",
      "Epoch 11: val_accuracy did not improve from 0.87755\n",
      "8/8 [==============================] - 113s 14s/step - loss: 0.1270 - accuracy: 0.9418 - val_loss: 0.5940 - val_accuracy: 0.8469\n",
      "Epoch 12/20\n",
      "8/8 [==============================] - ETA: 0s - loss: 0.1131 - accuracy: 0.9621 \n",
      "Epoch 12: val_accuracy did not improve from 0.87755\n",
      "8/8 [==============================] - 111s 14s/step - loss: 0.1131 - accuracy: 0.9621 - val_loss: 0.5551 - val_accuracy: 0.8673\n",
      "Epoch 13/20\n",
      "8/8 [==============================] - ETA: 0s - loss: 0.0860 - accuracy: 0.9747 \n",
      "Epoch 13: val_accuracy did not improve from 0.87755\n",
      "8/8 [==============================] - 109s 14s/step - loss: 0.0860 - accuracy: 0.9747 - val_loss: 0.5171 - val_accuracy: 0.8367\n",
      "Epoch 14/20\n",
      "8/8 [==============================] - ETA: 0s - loss: 0.0939 - accuracy: 0.9558 \n",
      "Epoch 14: val_accuracy did not improve from 0.87755\n",
      "8/8 [==============================] - 106s 13s/step - loss: 0.0939 - accuracy: 0.9558 - val_loss: 0.4028 - val_accuracy: 0.8469\n",
      "Epoch 15/20\n",
      "3/8 [==========>...................] - ETA: 1:01 - loss: 0.0733 - accuracy: 0.9700"
     ]
    }
   ],
   "source": [
    "## lets train our CNN\n",
    "checkpoint = ModelCheckpoint(\"model_weights.h5\", monitor='val_accuracy', verbose=1, save_best_only=True, mode='max')\n",
    "callbacks_list = [checkpoint]\n",
    "history = model.fit(training_data, validation_data=validation_data, epochs = 20, callbacks=callbacks_list)"
   ]
  },
  {
   "cell_type": "code",
   "execution_count": null,
   "id": "1d0e4f18",
   "metadata": {
    "execution": {
     "iopub.execute_input": "2022-06-06T11:45:04.374139Z",
     "iopub.status.busy": "2022-06-06T11:45:04.373501Z",
     "iopub.status.idle": "2022-06-06T11:45:04.381286Z",
     "shell.execute_reply": "2022-06-06T11:45:04.381827Z",
     "shell.execute_reply.started": "2022-06-06T11:11:37.400737Z"
    },
    "papermill": {
     "duration": 0.09748,
     "end_time": "2022-06-06T11:45:04.382001",
     "exception": false,
     "start_time": "2022-06-06T11:45:04.284521",
     "status": "completed"
    },
    "tags": [],
    "pycharm": {
     "is_executing": true
    }
   },
   "outputs": [],
   "source": [
    "###### serialize model structure to JSON\n",
    "model_json = model.to_json()\n",
    "with open(\"model.json\", \"w\") as json_file:\n",
    "    json_file.write(model_json)"
   ]
  },
  {
   "cell_type": "code",
   "execution_count": null,
   "id": "4f688b53",
   "metadata": {
    "execution": {
     "iopub.execute_input": "2022-06-06T11:45:04.565527Z",
     "iopub.status.busy": "2022-06-06T11:45:04.564796Z",
     "iopub.status.idle": "2022-06-06T11:45:04.856344Z",
     "shell.execute_reply": "2022-06-06T11:45:04.855786Z",
     "shell.execute_reply.started": "2022-06-06T11:11:37.410351Z"
    },
    "papermill": {
     "duration": 0.389861,
     "end_time": "2022-06-06T11:45:04.856513",
     "exception": false,
     "start_time": "2022-06-06T11:45:04.466652",
     "status": "completed"
    },
    "tags": [],
    "pycharm": {
     "is_executing": true
    }
   },
   "outputs": [],
   "source": [
    "## stats on training data\n",
    "plt.plot(history.history['loss'], label = 'training loss')\n",
    "plt.plot(history.history['accuracy'], label = 'training accuracy')\n",
    "plt.grid(True)\n",
    "plt.legend()"
   ]
  },
  {
   "cell_type": "code",
   "execution_count": null,
   "id": "aeb2c132",
   "metadata": {
    "execution": {
     "iopub.execute_input": "2022-06-06T11:45:05.034670Z",
     "iopub.status.busy": "2022-06-06T11:45:05.033702Z",
     "iopub.status.idle": "2022-06-06T11:45:05.272214Z",
     "shell.execute_reply": "2022-06-06T11:45:05.271694Z",
     "shell.execute_reply.started": "2022-06-06T11:11:37.692730Z"
    },
    "papermill": {
     "duration": 0.329018,
     "end_time": "2022-06-06T11:45:05.272358",
     "exception": false,
     "start_time": "2022-06-06T11:45:04.943340",
     "status": "completed"
    },
    "tags": [],
    "pycharm": {
     "is_executing": true
    }
   },
   "outputs": [],
   "source": [
    "## stats on training data\n",
    "plt.plot(history.history['val_loss'], label = 'validation loss')\n",
    "plt.plot(history.history['val_accuracy'], label = 'validation accuracy')\n",
    "plt.grid(True)\n",
    "plt.legend()"
   ]
  },
  {
   "cell_type": "code",
   "execution_count": null,
   "id": "5c1b2041",
   "metadata": {
    "execution": {
     "iopub.execute_input": "2022-06-06T11:45:05.457449Z",
     "iopub.status.busy": "2022-06-06T11:45:05.456580Z",
     "iopub.status.idle": "2022-06-06T11:45:12.629447Z",
     "shell.execute_reply": "2022-06-06T11:45:12.628843Z",
     "shell.execute_reply.started": "2022-06-06T11:11:37.935322Z"
    },
    "papermill": {
     "duration": 7.269324,
     "end_time": "2022-06-06T11:45:12.629596",
     "exception": false,
     "start_time": "2022-06-06T11:45:05.360272",
     "status": "completed"
    },
    "tags": [],
    "pycharm": {
     "is_executing": true
    }
   },
   "outputs": [],
   "source": [
    "## lets vizualize results on testing data\n",
    "AccuracyVector = []\n",
    "plt.figure(figsize=(30, 30))\n",
    "for images, labels in testing_data.take(1):\n",
    "    predictions = model.predict(images)\n",
    "    predlabel = []\n",
    "    prdlbl = []\n",
    "    \n",
    "    for mem in predictions:\n",
    "        predlabel.append(class_names[np.argmax(mem)])\n",
    "        prdlbl.append(np.argmax(mem))\n",
    "    \n",
    "    AccuracyVector = np.array(prdlbl) == labels\n",
    "    for i in range(40):\n",
    "        ax = plt.subplot(10, 4, i + 1)\n",
    "        plt.imshow(images[i].numpy().astype(\"uint8\"))\n",
    "        plt.title('Pred: '+ predlabel[i]+' actl:'+class_names[labels[i]] )\n",
    "        plt.axis('off')\n",
    "        plt.grid(True)"
   ]
  },
  {
   "cell_type": "code",
   "execution_count": null,
   "outputs": [],
   "source": [],
   "metadata": {
    "collapsed": false,
    "pycharm": {
     "is_executing": true
    }
   }
  }
 ],
 "metadata": {
  "interpreter": {
   "hash": "916dbcbb3f70747c44a77c7bcd40155683ae19c65e1c03b4aa3499c5328201f1"
  },
  "kernelspec": {
   "display_name": "Python 3 (ipykernel)",
   "language": "python",
   "name": "python3"
  },
  "language_info": {
   "codemirror_mode": {
    "name": "ipython",
    "version": 3
   },
   "file_extension": ".py",
   "mimetype": "text/x-python",
   "name": "python",
   "nbconvert_exporter": "python",
   "pygments_lexer": "ipython3",
   "version": "3.9.13"
  },
  "papermill": {
   "default_parameters": {},
   "duration": 1402.432589,
   "end_time": "2022-06-06T11:45:16.380977",
   "environment_variables": {},
   "exception": null,
   "input_path": "__notebook__.ipynb",
   "output_path": "__notebook__.ipynb",
   "parameters": {},
   "start_time": "2022-06-06T11:21:53.948388",
   "version": "2.3.3"
  }
 },
 "nbformat": 4,
 "nbformat_minor": 5
}
